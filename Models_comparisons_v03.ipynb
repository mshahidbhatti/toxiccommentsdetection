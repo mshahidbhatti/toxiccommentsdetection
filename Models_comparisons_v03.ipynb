{
 "cells": [
  {
   "cell_type": "code",
   "execution_count": 1,
   "metadata": {},
   "outputs": [],
   "source": [
    "#from tensorflow.compat.v1 import ConfigProto\n",
    "#from tensorflow.compat.v1 import InteractiveSession\n",
    "#config = ConfigProto()\n",
    "#config.gpu_options.allow_growth = True\n",
    "#session = InteractiveSession(config=config)"
   ]
  },
  {
   "cell_type": "code",
   "execution_count": 1,
   "metadata": {},
   "outputs": [
    {
     "name": "stdout",
     "output_type": "stream",
     "text": [
      "Num GPUs Available:  2\n"
     ]
    },
    {
     "data": {
      "text/plain": [
       "[name: \"/device:CPU:0\"\n",
       " device_type: \"CPU\"\n",
       " memory_limit: 268435456\n",
       " locality {\n",
       " }\n",
       " incarnation: 9886563230467794896\n",
       " xla_global_id: -1,\n",
       " name: \"/device:GPU:0\"\n",
       " device_type: \"GPU\"\n",
       " memory_limit: 14272167936\n",
       " locality {\n",
       "   bus_id: 1\n",
       "   links {\n",
       "   }\n",
       " }\n",
       " incarnation: 12207439668279319907\n",
       " physical_device_desc: \"device: 0, name: NVIDIA RTX A4000, pci bus id: 0000:17:00.0, compute capability: 8.6\"\n",
       " xla_global_id: 416903419,\n",
       " name: \"/device:GPU:1\"\n",
       " device_type: \"GPU\"\n",
       " memory_limit: 14272167936\n",
       " locality {\n",
       "   bus_id: 1\n",
       "   links {\n",
       "   }\n",
       " }\n",
       " incarnation: 14624149936717697938\n",
       " physical_device_desc: \"device: 1, name: NVIDIA RTX A4000, pci bus id: 0000:73:00.0, compute capability: 8.6\"\n",
       " xla_global_id: 2144165316]"
      ]
     },
     "execution_count": 1,
     "metadata": {},
     "output_type": "execute_result"
    }
   ],
   "source": [
    "import tensorflow as tf\n",
    "from tensorflow.python.client import device_lib\n",
    "\n",
    "print(\"Num GPUs Available: \", len(tf.config.list_physical_devices('GPU')))\n",
    "device_lib.list_local_devices()"
   ]
  },
  {
   "cell_type": "code",
   "execution_count": 2,
   "metadata": {},
   "outputs": [],
   "source": [
    "\n",
    "import tensorflow as tf\n",
    "gpus = tf.config.experimental.list_physical_devices('GPU')\n",
    "for gpu in gpus:\n",
    "  tf.config.experimental.set_memory_growth(gpu, True)"
   ]
  },
  {
   "cell_type": "code",
   "execution_count": 3,
   "metadata": {},
   "outputs": [
    {
     "name": "stdout",
     "output_type": "stream",
     "text": [
      "[PhysicalDevice(name='/physical_device:GPU:0', device_type='GPU'), PhysicalDevice(name='/physical_device:GPU:1', device_type='GPU')]\n"
     ]
    }
   ],
   "source": [
    "import tensorflow as tf; print(tf.config.list_physical_devices('GPU'))\n"
   ]
  },
  {
   "cell_type": "code",
   "execution_count": 4,
   "metadata": {
    "id": "v9-7-BBJXGID"
   },
   "outputs": [],
   "source": [
    "def design(name):\n",
    "    print('\\033[1m|============================================================================|\\033[0;m')\n",
    "    print('\\033[1m|===========| (%s) \\033[0;m' % (name))\n",
    "    print('\\033[1m|============================================================================|\\033[0;m\\n')\n",
    "\n",
    "def design_data(name, data):\n",
    "    print('\\033[1m|============================================================================|\\033[0;m')\n",
    "    print('\\033[1m|===========| (%s)\\033[0;m: ======>  (%s)' % (name, data))\n",
    "    print('\\033[1m|============================================================================|\\033[0;m\\n')"
   ]
  },
  {
   "cell_type": "markdown",
   "metadata": {
    "id": "OMsl1F_KXGIG"
   },
   "source": [
    "# Libraries"
   ]
  },
  {
   "cell_type": "code",
   "execution_count": 5,
   "metadata": {
    "id": "S6TS1AksXGIJ"
   },
   "outputs": [],
   "source": [
    "import pandas as pd\n",
    "import numpy as np\n",
    "import re\n",
    "import matplotlib.pyplot as plt\n",
    "import seaborn as sb\n",
    "from sklearn.utils import shuffle\n",
    "\n",
    "from sklearn.feature_extraction.text import TfidfVectorizer\n",
    "from sklearn.feature_selection import chi2, SelectKBest\n",
    "from nltk.tokenize import wordpunct_tokenize\n",
    "\n",
    "from sklearn.model_selection import train_test_split, GridSearchCV, KFold, StratifiedKFold\n",
    "\n",
    "from sklearn.preprocessing import LabelEncoder\n",
    "\n",
    "from sklearn.ensemble import RandomForestClassifier\n",
    "from sklearn.naive_bayes import GaussianNB, MultinomialNB\n",
    "from sklearn.svm import SVC\n",
    "\n",
    "import time\n",
    "\n",
    "\n",
    "import tensorflow \n",
    "from keras.layers import Embedding\n",
    "#import tensorflow.keras.utils.to_categorical\n",
    "from tensorflow.keras.utils import to_categorical\n",
    "#from keras.utils import to_categorical\n",
    "from keras.models import Sequential\n",
    "from keras.layers import Conv1D\n",
    "from keras.layers import MaxPooling1D \n",
    "from keras.layers import Dense\n",
    "from keras.layers import Dropout\n",
    "from keras.layers import Flatten\n",
    "from keras import layers\n",
    "from keras.layers import GlobalMaxPool1D\n",
    "from keras.layers import LeakyReLU\n",
    "from tensorflow.keras.layers import Dense, BatchNormalization\n",
    "\n",
    "from sklearn.utils import shuffle\n",
    "from sklearn.model_selection import train_test_split\n",
    "from sklearn.feature_extraction.text import TfidfVectorizer\n",
    "from nltk.tokenize import wordpunct_tokenize\n",
    "from sklearn.preprocessing import LabelEncoder\n",
    "\n",
    "from tensorflow.keras.models import Sequential\n",
    "from tensorflow.keras.layers import LSTM\n",
    "from tensorflow.keras.layers import Bidirectional\n",
    "from tensorflow.keras.layers import Dense\n",
    "from tensorflow.keras.layers import Dropout\n",
    "from tensorflow.keras.utils import to_categorical\n",
    "\n",
    "\n",
    "from keras.preprocessing.text import Tokenizer\n",
    "from keras.layers import Dense, Embedding, LSTM, SpatialDropout1D\n",
    "from keras_preprocessing.sequence import pad_sequences\n",
    "\n",
    "\n",
    "\n",
    "from sklearn.metrics import precision_score, recall_score, f1_score, cohen_kappa_score, accuracy_score"
   ]
  },
  {
   "cell_type": "code",
   "execution_count": 6,
   "metadata": {
    "id": "NeNJElYtXGIK"
   },
   "outputs": [],
   "source": [
    "file_path = \"new_dataset.csv\"\n",
    "\n",
    "dataset = pd.read_csv(file_path, usecols=['comment', 'label'])\n",
    "\n",
    "\n"
   ]
  },
  {
   "cell_type": "markdown",
   "metadata": {
    "id": "zT7WbOXeXGIK"
   },
   "source": [
    "# Exploring dataset"
   ]
  },
  {
   "cell_type": "code",
   "execution_count": 7,
   "metadata": {
    "colab": {
     "base_uri": "https://localhost:8080/",
     "height": 206
    },
    "id": "ERhlFTiOXGIL",
    "outputId": "c6815965-c00f-4d5e-dc20-6f6fc57cec21"
   },
   "outputs": [],
   "source": [
    "#dataset.sample(frac=1).head()\n",
    "dataset=dataset.sample(frac=1,random_state=1500)\n",
    "dataset=dataset.iloc[:1000,:]"
   ]
  },
  {
   "cell_type": "code",
   "execution_count": 8,
   "metadata": {
    "id": "08sZjyHvXGIN"
   },
   "outputs": [],
   "source": [
    "# shuffling dataset\n",
    "dataset = shuffle(shuffle(dataset.sample(frac=1, random_state=1200).reset_index(drop=True)))\n",
    "original_dataset_size = len(dataset)"
   ]
  },
  {
   "cell_type": "code",
   "execution_count": 9,
   "metadata": {
    "colab": {
     "base_uri": "https://localhost:8080/",
     "height": 206
    },
    "id": "qX3lXiQPXGIP",
    "outputId": "a4de0d10-cf78-4c64-958f-fd6a38f3dc07"
   },
   "outputs": [
    {
     "data": {
      "text/html": [
       "<div>\n",
       "<style scoped>\n",
       "    .dataframe tbody tr th:only-of-type {\n",
       "        vertical-align: middle;\n",
       "    }\n",
       "\n",
       "    .dataframe tbody tr th {\n",
       "        vertical-align: top;\n",
       "    }\n",
       "\n",
       "    .dataframe thead th {\n",
       "        text-align: right;\n",
       "    }\n",
       "</style>\n",
       "<table border=\"1\" class=\"dataframe\">\n",
       "  <thead>\n",
       "    <tr style=\"text-align: right;\">\n",
       "      <th></th>\n",
       "      <th>comment</th>\n",
       "      <th>label</th>\n",
       "    </tr>\n",
       "  </thead>\n",
       "  <tbody>\n",
       "    <tr>\n",
       "      <th>398</th>\n",
       "      <td>ٹویٹرکا صارفین کے لیے نیا فیچر</td>\n",
       "      <td>0</td>\n",
       "    </tr>\n",
       "    <tr>\n",
       "      <th>383</th>\n",
       "      <td>اب کانٹیکٹ لینس سے ویڈیو ریکارڈ اور اسٹور کرنا...</td>\n",
       "      <td>0</td>\n",
       "    </tr>\n",
       "    <tr>\n",
       "      <th>369</th>\n",
       "      <td>چینی رٹسٹ کا کمال چوپ سٹکس کے ذریعے انوکھا فن ...</td>\n",
       "      <td>0</td>\n",
       "    </tr>\n",
       "    <tr>\n",
       "      <th>161</th>\n",
       "      <td>فواد چوہدری اور تانیہ ایدورس کی یوٹیوب پر ممکن...</td>\n",
       "      <td>0</td>\n",
       "    </tr>\n",
       "    <tr>\n",
       "      <th>265</th>\n",
       "      <td>ایپل نے ائی فون سست کرنے پر معافی مانگ لی</td>\n",
       "      <td>0</td>\n",
       "    </tr>\n",
       "  </tbody>\n",
       "</table>\n",
       "</div>"
      ],
      "text/plain": [
       "                                               comment  label\n",
       "398                     ٹویٹرکا صارفین کے لیے نیا فیچر      0\n",
       "383  اب کانٹیکٹ لینس سے ویڈیو ریکارڈ اور اسٹور کرنا...      0\n",
       "369  چینی رٹسٹ کا کمال چوپ سٹکس کے ذریعے انوکھا فن ...      0\n",
       "161  فواد چوہدری اور تانیہ ایدورس کی یوٹیوب پر ممکن...      0\n",
       "265          ایپل نے ائی فون سست کرنے پر معافی مانگ لی      0"
      ]
     },
     "execution_count": 9,
     "metadata": {},
     "output_type": "execute_result"
    }
   ],
   "source": [
    "dataset.sample(frac=1).head()"
   ]
  },
  {
   "cell_type": "markdown",
   "metadata": {
    "id": "gH53so7uXGIQ"
   },
   "source": [
    "# Data Pre-Processing"
   ]
  },
  {
   "cell_type": "code",
   "execution_count": 10,
   "metadata": {
    "colab": {
     "base_uri": "https://localhost:8080/"
    },
    "id": "WRLlWgC4XGIQ",
    "outputId": "263db1cc-0b90-4127-899b-2e5dc85a188b"
   },
   "outputs": [
    {
     "data": {
      "text/plain": [
       "comment    False\n",
       "label      False\n",
       "dtype: bool"
      ]
     },
     "execution_count": 10,
     "metadata": {},
     "output_type": "execute_result"
    }
   ],
   "source": [
    "#: checking null values.\n",
    "dataset.isnull().any()"
   ]
  },
  {
   "cell_type": "code",
   "execution_count": 11,
   "metadata": {
    "colab": {
     "base_uri": "https://localhost:8080/"
    },
    "id": "olC1Uv9TXGIR",
    "outputId": "569d305f-ef68-42fb-8586-c9ab8ee0d56c"
   },
   "outputs": [
    {
     "data": {
      "text/plain": [
       "comment    0\n",
       "label      0\n",
       "dtype: int64"
      ]
     },
     "execution_count": 11,
     "metadata": {},
     "output_type": "execute_result"
    }
   ],
   "source": [
    "dataset.isnull().sum()"
   ]
  },
  {
   "cell_type": "markdown",
   "metadata": {
    "id": "60i07ME2XGIS"
   },
   "source": [
    "# Instances Per-Class"
   ]
  },
  {
   "cell_type": "code",
   "execution_count": 12,
   "metadata": {
    "colab": {
     "base_uri": "https://localhost:8080/",
     "height": 112
    },
    "id": "ZGbWcrqrXGIS",
    "outputId": "90e0c985-ee07-4dc4-86ed-244ca6dedf11"
   },
   "outputs": [
    {
     "data": {
      "text/html": [
       "<div>\n",
       "<style scoped>\n",
       "    .dataframe tbody tr th:only-of-type {\n",
       "        vertical-align: middle;\n",
       "    }\n",
       "\n",
       "    .dataframe tbody tr th {\n",
       "        vertical-align: top;\n",
       "    }\n",
       "\n",
       "    .dataframe thead th {\n",
       "        text-align: right;\n",
       "    }\n",
       "</style>\n",
       "<table border=\"1\" class=\"dataframe\">\n",
       "  <thead>\n",
       "    <tr style=\"text-align: right;\">\n",
       "      <th></th>\n",
       "      <th>label</th>\n",
       "    </tr>\n",
       "  </thead>\n",
       "  <tbody>\n",
       "    <tr>\n",
       "      <th>1</th>\n",
       "      <td>501</td>\n",
       "    </tr>\n",
       "    <tr>\n",
       "      <th>0</th>\n",
       "      <td>499</td>\n",
       "    </tr>\n",
       "  </tbody>\n",
       "</table>\n",
       "</div>"
      ],
      "text/plain": [
       "   label\n",
       "1    501\n",
       "0    499"
      ]
     },
     "execution_count": 12,
     "metadata": {},
     "output_type": "execute_result"
    }
   ],
   "source": [
    "per_class_instances = dataset['label'].value_counts()\n",
    "per_class_instances = pd.DataFrame(per_class_instances, columns=['label'])\n",
    "per_class_instances"
   ]
  },
  {
   "cell_type": "code",
   "execution_count": 13,
   "metadata": {
    "id": "odvYFwSeXGIT"
   },
   "outputs": [],
   "source": [
    "#visualizing class\n",
    "label_ = []\n",
    "\n",
    "for line in dataset['label']:\n",
    "    if line == 1:\n",
    "        label_.append('1')\n",
    "    elif line == 0:\n",
    "        label_.append('0')\n",
    "    "
   ]
  },
  {
   "cell_type": "code",
   "execution_count": 14,
   "metadata": {
    "colab": {
     "base_uri": "https://localhost:8080/"
    },
    "id": "xF9cR2AdXGIU",
    "outputId": "f0231585-7b9a-4b03-e33a-7cdb1010dcfa"
   },
   "outputs": [
    {
     "data": {
      "text/plain": [
       "(1000, 1000)"
      ]
     },
     "execution_count": 14,
     "metadata": {},
     "output_type": "execute_result"
    }
   ],
   "source": [
    "len(label_), len(dataset['label'])\n"
   ]
  },
  {
   "cell_type": "code",
   "execution_count": 15,
   "metadata": {
    "colab": {
     "base_uri": "https://localhost:8080/",
     "height": 443
    },
    "id": "tNm9nW79XGIV",
    "outputId": "c57e50cd-2eea-4f68-8387-f6c7b7b6e996"
   },
   "outputs": [
    {
     "name": "stderr",
     "output_type": "stream",
     "text": [
      "C:\\ProgramData\\Anaconda3\\lib\\site-packages\\seaborn\\_decorators.py:36: FutureWarning: Pass the following variable as a keyword arg: x. From version 0.12, the only valid positional argument will be `data`, and passing other arguments without an explicit keyword will result in an error or misinterpretation.\n",
      "  warnings.warn(\n"
     ]
    },
    {
     "data": {
      "image/png": "[encoded data removed]",
      "text/plain": [
       "<Figure size 504x432 with 1 Axes>"
      ]
     },
     "metadata": {
      "needs_background": "light"
     },
     "output_type": "display_data"
    }
   ],
   "source": [
    "plt.figure(figsize=(7,6))\n",
    "sb.countplot(label_)\n",
    "plt.xlabel('Class Labels')\n",
    "plt.show()"
   ]
  },
  {
   "cell_type": "markdown",
   "metadata": {
    "id": "biMNyyWQXGIW"
   },
   "source": [
    "# Cleaning dataset"
   ]
  },
  {
   "cell_type": "code",
   "execution_count": 16,
   "metadata": {
    "id": "HtXWeME4XGIW"
   },
   "outputs": [],
   "source": [
    "comment = []\n",
    "clas = []\n",
    "\n",
    "\n",
    "#: cleaning title\n",
    "for line in dataset['comment']:\n",
    "    new_line = re.sub(r'\\d+', '', str(line))\n",
    "    final_line = re.sub(r'[a-zA-Z]', '', str(new_line))\n",
    "    comment.extend([re.sub(r\"[^\\w\\s]\", '', str(final_line))])\n",
    "\n",
    "#: append class\n",
    "for line in dataset['label']:\n",
    "    clas.extend([re.sub(r\"[^\\s\\w]\", '', str(line))])\n",
    "    \n",
    "    \n",
    "#: r\"\\b\\d+\\b\",\n"
   ]
  },
  {
   "cell_type": "code",
   "execution_count": 17,
   "metadata": {
    "id": "J7tvQfSWXGIX"
   },
   "outputs": [],
   "source": [
    "new_data = pd.DataFrame()\n",
    "new_data['comment'] = comment\n",
    "new_data['label'] = clas"
   ]
  },
  {
   "cell_type": "code",
   "execution_count": 18,
   "metadata": {
    "colab": {
     "base_uri": "https://localhost:8080/",
     "height": 424
    },
    "id": "GRic8YTKXGIX",
    "outputId": "bc8cba1d-ed6c-431e-e3f8-d3c9cacbcb96"
   },
   "outputs": [
    {
     "data": {
      "text/html": [
       "<div>\n",
       "<style scoped>\n",
       "    .dataframe tbody tr th:only-of-type {\n",
       "        vertical-align: middle;\n",
       "    }\n",
       "\n",
       "    .dataframe tbody tr th {\n",
       "        vertical-align: top;\n",
       "    }\n",
       "\n",
       "    .dataframe thead th {\n",
       "        text-align: right;\n",
       "    }\n",
       "</style>\n",
       "<table border=\"1\" class=\"dataframe\">\n",
       "  <thead>\n",
       "    <tr style=\"text-align: right;\">\n",
       "      <th></th>\n",
       "      <th>comment</th>\n",
       "      <th>label</th>\n",
       "    </tr>\n",
       "  </thead>\n",
       "  <tbody>\n",
       "    <tr>\n",
       "      <th>0</th>\n",
       "      <td>بلوچستان بجلی صارفین اربوں روپے کے نادہندہ نیب...</td>\n",
       "      <td>0</td>\n",
       "    </tr>\n",
       "    <tr>\n",
       "      <th>1</th>\n",
       "      <td>امریکا میں سونے کے نرخوں میں اضافہ یورپ اور ای...</td>\n",
       "      <td>1</td>\n",
       "    </tr>\n",
       "    <tr>\n",
       "      <th>2</th>\n",
       "      <td>باغبان اپنے باغات کی بعد از برداشت سنبھال میں ...</td>\n",
       "      <td>1</td>\n",
       "    </tr>\n",
       "    <tr>\n",
       "      <th>3</th>\n",
       "      <td>اب پاکستان میں  سی سی گاڑی مناسب پیسوں میں</td>\n",
       "      <td>0</td>\n",
       "    </tr>\n",
       "    <tr>\n",
       "      <th>4</th>\n",
       "      <td>انسٹا گرام پر دوستوں کی بھیجی گئی تصاویر کو ای...</td>\n",
       "      <td>0</td>\n",
       "    </tr>\n",
       "    <tr>\n",
       "      <th>...</th>\n",
       "      <td>...</td>\n",
       "      <td>...</td>\n",
       "    </tr>\n",
       "    <tr>\n",
       "      <th>995</th>\n",
       "      <td>حویلیاں ڈرائی پورٹ منصوبے پر پیش رفت جاری</td>\n",
       "      <td>1</td>\n",
       "    </tr>\n",
       "    <tr>\n",
       "      <th>996</th>\n",
       "      <td>مکئی کی فصل کو جڑی بوٹیوں سے پاک رکھنے کیلئے د...</td>\n",
       "      <td>1</td>\n",
       "    </tr>\n",
       "    <tr>\n",
       "      <th>997</th>\n",
       "      <td>ایف ائی اے میں ان لائن بدسلوکی کی  ہزار شکایات...</td>\n",
       "      <td>0</td>\n",
       "    </tr>\n",
       "    <tr>\n",
       "      <th>998</th>\n",
       "      <td>اوبر پچ  مقامی اسٹارٹ اپس کو تحریک مہیا کرے گا</td>\n",
       "      <td>1</td>\n",
       "    </tr>\n",
       "    <tr>\n",
       "      <th>999</th>\n",
       "      <td>پاکستان میں گوگل پر سب سے زیادہ کونسے اسمارٹ ...</td>\n",
       "      <td>0</td>\n",
       "    </tr>\n",
       "  </tbody>\n",
       "</table>\n",
       "<p>1000 rows × 2 columns</p>\n",
       "</div>"
      ],
      "text/plain": [
       "                                               comment label\n",
       "0    بلوچستان بجلی صارفین اربوں روپے کے نادہندہ نیب...     0\n",
       "1    امریکا میں سونے کے نرخوں میں اضافہ یورپ اور ای...     1\n",
       "2    باغبان اپنے باغات کی بعد از برداشت سنبھال میں ...     1\n",
       "3           اب پاکستان میں  سی سی گاڑی مناسب پیسوں میں     0\n",
       "4    انسٹا گرام پر دوستوں کی بھیجی گئی تصاویر کو ای...     0\n",
       "..                                                 ...   ...\n",
       "995          حویلیاں ڈرائی پورٹ منصوبے پر پیش رفت جاری     1\n",
       "996  مکئی کی فصل کو جڑی بوٹیوں سے پاک رکھنے کیلئے د...     1\n",
       "997  ایف ائی اے میں ان لائن بدسلوکی کی  ہزار شکایات...     0\n",
       "998     اوبر پچ  مقامی اسٹارٹ اپس کو تحریک مہیا کرے گا     1\n",
       "999   پاکستان میں گوگل پر سب سے زیادہ کونسے اسمارٹ ...     0\n",
       "\n",
       "[1000 rows x 2 columns]"
      ]
     },
     "execution_count": 18,
     "metadata": {},
     "output_type": "execute_result"
    }
   ],
   "source": [
    "dataset = new_data\n",
    "dataset"
   ]
  },
  {
   "cell_type": "code",
   "execution_count": 19,
   "metadata": {
    "id": "FirK8XI7XGIY"
   },
   "outputs": [],
   "source": [
    "total_words = 0\n",
    "\n",
    "for line in dataset['comment']:\n",
    "    for words in line.split():\n",
    "        total_words += 1"
   ]
  },
  {
   "cell_type": "markdown",
   "metadata": {
    "id": "GrXVOyq0XGIZ"
   },
   "source": [
    "# Data Splitting"
   ]
  },
  {
   "cell_type": "code",
   "execution_count": 20,
   "metadata": {
    "id": "sRSHwag-XGIZ"
   },
   "outputs": [],
   "source": [
    "x = dataset['comment']\n",
    "y = dataset['label'] \n",
    "\n",
    "X_train, X_test, y_train, y_test = train_test_split(x, y, test_size=0.3, random_state=1000)\n",
    "X_train_dnn, X_test_dnn, y_train_dnn, y_test_dnn = train_test_split(x, y, test_size=0.3, random_state=1000)"
   ]
  },
  {
   "cell_type": "code",
   "execution_count": 21,
   "metadata": {
    "colab": {
     "base_uri": "https://localhost:8080/"
    },
    "id": "2RB4D9oHXGIZ",
    "outputId": "def5ab45-bd09-4a17-b303-295c51787577"
   },
   "outputs": [
    {
     "name": "stdout",
     "output_type": "stream",
     "text": [
      "\u001b[1m|============================================================================|\u001b[0;m\n",
      "\u001b[1m|===========| (Train dataset)\u001b[0;m: ======>  (700)\n",
      "\u001b[1m|============================================================================|\u001b[0;m\n",
      "\n",
      "\u001b[1m|============================================================================|\u001b[0;m\n",
      "\u001b[1m|===========| (Class-1)\u001b[0;m: ======>  (347)\n",
      "\u001b[1m|============================================================================|\u001b[0;m\n",
      "\n",
      "\u001b[1m|============================================================================|\u001b[0;m\n",
      "\u001b[1m|===========| (Class-0)\u001b[0;m: ======>  (353)\n",
      "\u001b[1m|============================================================================|\u001b[0;m\n",
      "\n"
     ]
    }
   ],
   "source": [
    "#: counting per-class instances in y_train\n",
    "\n",
    "one_ = 0\n",
    "zero_ = 0\n",
    "\n",
    "#: instances in y_train\n",
    "for i in y_train:\n",
    "    if i == '1':\n",
    "        one_ += 1\n",
    "    elif i == '0':\n",
    "        zero_ += 1\n",
    "  \n",
    "\n",
    "#: ================\n",
    "\n",
    "design_data('Train dataset', len(X_train))\n",
    "\n",
    "#: per-class instances\n",
    "\n",
    "design_data('Class-1', one_)\n",
    "design_data('Class-0', zero_)\n"
   ]
  },
  {
   "cell_type": "code",
   "execution_count": 22,
   "metadata": {
    "colab": {
     "base_uri": "https://localhost:8080/"
    },
    "id": "taXTN9sJXGIa",
    "outputId": "4f51dc79-04fd-4b2a-996a-29b61b2625d3"
   },
   "outputs": [
    {
     "name": "stdout",
     "output_type": "stream",
     "text": [
      "\u001b[1m|============================================================================|\u001b[0;m\n",
      "\u001b[1m|===========| (Test dataset)\u001b[0;m: ======>  (300)\n",
      "\u001b[1m|============================================================================|\u001b[0;m\n",
      "\n",
      "\u001b[1m|============================================================================|\u001b[0;m\n",
      "\u001b[1m|===========| (Class-1)\u001b[0;m: ======>  (154)\n",
      "\u001b[1m|============================================================================|\u001b[0;m\n",
      "\n",
      "\u001b[1m|============================================================================|\u001b[0;m\n",
      "\u001b[1m|===========| (Class-0)\u001b[0;m: ======>  (146)\n",
      "\u001b[1m|============================================================================|\u001b[0;m\n",
      "\n"
     ]
    }
   ],
   "source": [
    "#: counting per-class instances in y_train\n",
    "\n",
    "one_ = 0\n",
    "zero_ = 0\n",
    "\n",
    "#: instances in y_train\n",
    "for i in y_test:\n",
    "    if i == '1':\n",
    "        one_ += 1\n",
    "    elif i == '0':\n",
    "        zero_ += 1\n",
    "  \n",
    "\n",
    "#: ================\n",
    "\n",
    "design_data('Test dataset', len(X_test))\n",
    "\n",
    "#: per-class instances\n",
    "\n",
    "design_data('Class-1', one_)\n",
    "design_data('Class-0', zero_)\n"
   ]
  },
  {
   "cell_type": "markdown",
   "metadata": {
    "id": "Nm4LxGBIXGIa"
   },
   "source": [
    "# Label-Encoder"
   ]
  },
  {
   "cell_type": "code",
   "execution_count": 23,
   "metadata": {
    "id": "eFCRNsoOXGIb"
   },
   "outputs": [],
   "source": [
    "#: Encoding target variable\n",
    "encoder = LabelEncoder()\n",
    "y_train = encoder.fit_transform(y_train)\n",
    "y_test  = encoder.transform(y_test)\n",
    "\n",
    "\n",
    "y_train_dnn = encoder.fit_transform(y_train_dnn)\n",
    "y_test_dnn  = encoder.transform(y_test_dnn)\n"
   ]
  },
  {
   "cell_type": "markdown",
   "metadata": {
    "id": "3-3738IsXGIb"
   },
   "source": [
    "# Feature-Extraction"
   ]
  },
  {
   "cell_type": "code",
   "execution_count": 24,
   "metadata": {
    "id": "kQztJmQ0XGIb"
   },
   "outputs": [],
   "source": [
    "train_data = X_train\n",
    "test_data = X_test"
   ]
  },
  {
   "cell_type": "code",
   "execution_count": 25,
   "metadata": {
    "id": "wpxR4ql2XGIc"
   },
   "outputs": [],
   "source": [
    "freezing_words = [ 'ہے', 'ہیں', 'تھا', 'تھے', 'کے']\n"
   ]
  },
  {
   "cell_type": "code",
   "execution_count": 26,
   "metadata": {
    "id": "KutNvrTqXGIc"
   },
   "outputs": [],
   "source": [
    "tfidf = TfidfVectorizer(analyzer='word', max_df=0.8, min_df=4, ngram_range=(1,1), stop_words=freezing_words, sublinear_tf=True, tokenizer=wordpunct_tokenize)\n",
    "\n",
    "train_data_x = tfidf.fit_transform(train_data)\n",
    "test_data_x = tfidf.transform(test_data)\n",
    "\n"
   ]
  },
  {
   "cell_type": "code",
   "execution_count": 27,
   "metadata": {
    "id": "P-SPNaNPXGIc"
   },
   "outputs": [],
   "source": [
    "train_data = pd.DataFrame(train_data_x.toarray())\n",
    "test_data = pd.DataFrame(test_data_x.toarray())"
   ]
  },
  {
   "cell_type": "code",
   "execution_count": null,
   "metadata": {
    "id": "80bwS6O3XGId"
   },
   "outputs": [],
   "source": []
  },
  {
   "cell_type": "code",
   "execution_count": 28,
   "metadata": {
    "colab": {
     "base_uri": "https://localhost:8080/"
    },
    "id": "fCMcyf7PXGId",
    "outputId": "65ff982b-19f4-48e0-c3a1-d7593e59fecd"
   },
   "outputs": [
    {
     "name": "stdout",
     "output_type": "stream",
     "text": [
      "\u001b[1m|============================================================================|\u001b[0;m\n",
      "\u001b[1m|===========| (Final-Shapes) \u001b[0;m\n",
      "\u001b[1m|============================================================================|\u001b[0;m\n",
      "\n",
      "Train-Dataset shape: ==> (700, 409)  <----->  (700,)\n",
      "Test-Dataset shape: ==> (300, 409)    <----->  (300,)\n"
     ]
    }
   ],
   "source": [
    "design('Final-Shapes')\n",
    "print('Train-Dataset shape: ==>', train_data.shape, ' <-----> ', y_train.shape)\n",
    "print('Test-Dataset shape: ==>', test_data.shape, '   <-----> ', y_test.shape)\n"
   ]
  },
  {
   "cell_type": "markdown",
   "metadata": {
    "id": "SEDgX7FjXGId"
   },
   "source": [
    "# Feature-Selection ==> [chi_2]"
   ]
  },
  {
   "cell_type": "code",
   "execution_count": 29,
   "metadata": {
    "colab": {
     "base_uri": "https://localhost:8080/"
    },
    "id": "dZRtWOSWXGId",
    "outputId": "0ef31f16-45bd-4ac4-e90a-56550265dc55"
   },
   "outputs": [
    {
     "data": {
      "text/plain": [
       "((700, 409), (300, 409))"
      ]
     },
     "execution_count": 29,
     "metadata": {},
     "output_type": "execute_result"
    }
   ],
   "source": [
    "train_data.shape, test_data.shape"
   ]
  },
  {
   "cell_type": "code",
   "execution_count": 30,
   "metadata": {
    "id": "mcx6n9bJXGIe"
   },
   "outputs": [],
   "source": [
    "import numpy as np\n",
    "\n",
    "#: selecting 950 features\n",
    "\n",
    "\n",
    "def features_finder(train, y, test):\n",
    "    #chi2_fs = SelectKBest(chi2, k=950)\n",
    "    chi2_fs = SelectKBest(chi2, k=64)\n",
    "    chi2_fs.fit(train, y)  #: find the rel between x and y\n",
    "    x_data_train = chi2_fs.transform(train)\n",
    "    x_data_test  = chi2_fs.transform(test)\n",
    "    return x_data_train, x_data_test, chi2_fs"
   ]
  },
  {
   "cell_type": "code",
   "execution_count": 31,
   "metadata": {
    "id": "W3Kg1IxJXGIe"
   },
   "outputs": [],
   "source": [
    "X_train, X_test, chi2_fs = features_finder(train_data, y_train, test_data) "
   ]
  },
  {
   "cell_type": "markdown",
   "metadata": {
    "id": "KR1cPcDvXGIe"
   },
   "source": [
    "# Important-Features:"
   ]
  },
  {
   "cell_type": "code",
   "execution_count": 32,
   "metadata": {
    "colab": {
     "base_uri": "https://localhost:8080/"
    },
    "id": "fehdbakiXGIf",
    "outputId": "186b98d1-fcaa-449a-d5c4-eeb5f20838c5"
   },
   "outputs": [
    {
     "data": {
      "text/plain": [
       "64"
      ]
     },
     "execution_count": 32,
     "metadata": {},
     "output_type": "execute_result"
    }
   ],
   "source": [
    "X_train.shape[1]"
   ]
  },
  {
   "cell_type": "code",
   "execution_count": 33,
   "metadata": {
    "colab": {
     "base_uri": "https://localhost:8080/"
    },
    "id": "ukFcgtlNXGIf",
    "outputId": "afb26d67-0e2d-4178-8ae4-873d8e9d5807"
   },
   "outputs": [
    {
     "name": "stdout",
     "output_type": "stream",
     "text": [
      "\u001b[1m|============================================================================|\u001b[0;m\n",
      "\u001b[1m|===========| (Original Feature Extraction size)\u001b[0;m: ======>  (409)\n",
      "\u001b[1m|============================================================================|\u001b[0;m\n",
      "\n",
      "\u001b[1m|============================================================================|\u001b[0;m\n",
      "\u001b[1m|===========| (Selected Feature size)\u001b[0;m: ======>  (64)\n",
      "\u001b[1m|============================================================================|\u001b[0;m\n",
      "\n"
     ]
    },
    {
     "name": "stderr",
     "output_type": "stream",
     "text": [
      "C:\\ProgramData\\Anaconda3\\lib\\site-packages\\sklearn\\utils\\deprecation.py:87: FutureWarning: Function get_feature_names is deprecated; get_feature_names is deprecated in 1.0 and will be removed in 1.2. Please use get_feature_names_out instead.\n",
      "  warnings.warn(msg, category=FutureWarning)\n"
     ]
    }
   ],
   "source": [
    "design_data('Original Feature Extraction size', len(tfidf.get_feature_names()))\n",
    "design_data('Selected Feature size', X_train.shape[1])"
   ]
  },
  {
   "cell_type": "code",
   "execution_count": 34,
   "metadata": {
    "colab": {
     "base_uri": "https://localhost:8080/",
     "height": 522
    },
    "id": "gc3jdfxaXGIf",
    "outputId": "de8bd411-7bb3-4a84-93da-5ea604f54b9d"
   },
   "outputs": [
    {
     "data": {
      "image/png": "[encoded data removed]",
      "text/plain": [
       "<Figure size 1080x720 with 1 Axes>"
      ]
     },
     "metadata": {
      "needs_background": "light"
     },
     "output_type": "display_data"
    }
   ],
   "source": [
    "# plot the scores\n",
    "plt.figure(figsize=(15,10))\n",
    "plt.bar([i for i in range(len(chi2_fs.scores_))], chi2_fs.scores_)\n",
    "plt.title('Important Feature of Urdu news dataset')\n",
    "plt.xlabel('Feature size')\n",
    "plt.ylabel('Importance')\n",
    "plt.show()"
   ]
  },
  {
   "cell_type": "markdown",
   "metadata": {
    "id": "dj04UN0UXGIg"
   },
   "source": [
    "# Algorithms using train-test split"
   ]
  },
  {
   "cell_type": "markdown",
   "metadata": {
    "id": "P-iQ3f_TXGIg"
   },
   "source": [
    "# 1): Multinomial NB"
   ]
  },
  {
   "cell_type": "code",
   "execution_count": 35,
   "metadata": {
    "colab": {
     "base_uri": "https://localhost:8080/"
    },
    "id": "NiW5F2Y4XGIg",
    "outputId": "fb0410c9-ea11-460f-9afe-5fbe7dbaca8a"
   },
   "outputs": [
    {
     "name": "stdout",
     "output_type": "stream",
     "text": [
      "\u001b[1m|============================================================================|\u001b[0;m\n",
      "\u001b[1m|===========| (Accuracy)\u001b[0;m: ======>  (75.0)\n",
      "\u001b[1m|============================================================================|\u001b[0;m\n",
      "\n",
      "\u001b[1m|============================================================================|\u001b[0;m\n",
      "\u001b[1m|===========| (Precision)\u001b[0;m: ======>  (78.0)\n",
      "\u001b[1m|============================================================================|\u001b[0;m\n",
      "\n",
      "\u001b[1m|============================================================================|\u001b[0;m\n",
      "\u001b[1m|===========| (Recall)\u001b[0;m: ======>  (75.0)\n",
      "\u001b[1m|============================================================================|\u001b[0;m\n",
      "\n",
      "\u001b[1m|============================================================================|\u001b[0;m\n",
      "\u001b[1m|===========| (F1_score)\u001b[0;m: ======>  (74.0)\n",
      "\u001b[1m|============================================================================|\u001b[0;m\n",
      "\n",
      "\u001b[1m|============================================================================|\u001b[0;m\n",
      "\u001b[1m|===========| (Cohen Kappa)\u001b[0;m: ======>  (50.0)\n",
      "\u001b[1m|============================================================================|\u001b[0;m\n",
      "\n"
     ]
    }
   ],
   "source": [
    "\n",
    "mnb = MultinomialNB(alpha=1.0)\n",
    "mnb_clf = mnb.fit(X_train, y_train)\n",
    "mnb_predict = mnb_clf.predict(X_test)\n",
    "\n",
    "\n",
    "mnb_accuracy  = round((accuracy_score(y_test, mnb_predict)), 2)*100\n",
    "mnb_precision = round((precision_score(y_test, mnb_predict, average='macro')), 2)*100\n",
    "mnb_recall = round((recall_score(y_test, mnb_predict, average='macro')), 2)*100\n",
    "mnb_f1 = round((f1_score(y_test, mnb_predict, average='macro')), 2)*100\n",
    "mnb_kappa = round((cohen_kappa_score(y_test, mnb_predict)), 2)*100\n",
    "\n",
    "design_data('Accuracy', mnb_accuracy)\n",
    "design_data('Precision', mnb_precision)\n",
    "design_data('Recall', mnb_recall)\n",
    "design_data('F1_score', mnb_f1)\n",
    "design_data('Cohen Kappa', mnb_kappa)"
   ]
  },
  {
   "cell_type": "code",
   "execution_count": 36,
   "metadata": {
    "colab": {
     "base_uri": "https://localhost:8080/",
     "height": 334
    },
    "id": "Ex18SatyXGIg",
    "outputId": "c6564ba4-5b91-447a-ee3c-b3375cf7e51e"
   },
   "outputs": [
    {
     "name": "stderr",
     "output_type": "stream",
     "text": [
      "C:\\ProgramData\\Anaconda3\\lib\\site-packages\\sklearn\\utils\\deprecation.py:87: FutureWarning: Function plot_confusion_matrix is deprecated; Function `plot_confusion_matrix` is deprecated in 1.0 and will be removed in 1.2. Use one of the class methods: ConfusionMatrixDisplay.from_predictions or ConfusionMatrixDisplay.from_estimator.\n",
      "  warnings.warn(msg, category=FutureWarning)\n"
     ]
    },
    {
     "data": {
      "image/png": "[encoded data removed]",
      "text/plain": [
       "<Figure size 432x288 with 2 Axes>"
      ]
     },
     "metadata": {
      "needs_background": "light"
     },
     "output_type": "display_data"
    }
   ],
   "source": [
    "from sklearn.metrics import plot_confusion_matrix\n",
    "\n",
    "plot_confusion_matrix(mnb, X_test, y_test) \n",
    "plt.show()\n"
   ]
  },
  {
   "cell_type": "markdown",
   "metadata": {
    "id": "5_m8i7NbXGIh"
   },
   "source": [
    "# 2): SVM"
   ]
  },
  {
   "cell_type": "code",
   "execution_count": 37,
   "metadata": {
    "colab": {
     "base_uri": "https://localhost:8080/"
    },
    "id": "7csARyPxXGIh",
    "outputId": "35d6f0f9-5aa9-4e89-fa42-5f9421d64a43"
   },
   "outputs": [
    {
     "name": "stdout",
     "output_type": "stream",
     "text": [
      "\u001b[1m|============================================================================|\u001b[0;m\n",
      "\u001b[1m|===========| (Accuracy)\u001b[0;m: ======>  (75.0)\n",
      "\u001b[1m|============================================================================|\u001b[0;m\n",
      "\n",
      "\u001b[1m|============================================================================|\u001b[0;m\n",
      "\u001b[1m|===========| (Precision)\u001b[0;m: ======>  (79.0)\n",
      "\u001b[1m|============================================================================|\u001b[0;m\n",
      "\n",
      "\u001b[1m|============================================================================|\u001b[0;m\n",
      "\u001b[1m|===========| (Recall)\u001b[0;m: ======>  (76.0)\n",
      "\u001b[1m|============================================================================|\u001b[0;m\n",
      "\n",
      "\u001b[1m|============================================================================|\u001b[0;m\n",
      "\u001b[1m|===========| (F1_score)\u001b[0;m: ======>  (75.0)\n",
      "\u001b[1m|============================================================================|\u001b[0;m\n",
      "\n",
      "\u001b[1m|============================================================================|\u001b[0;m\n",
      "\u001b[1m|===========| (Cohen Kappa)\u001b[0;m: ======>  (51.0)\n",
      "\u001b[1m|============================================================================|\u001b[0;m\n",
      "\n"
     ]
    }
   ],
   "source": [
    "\n",
    "svm = SVC()\n",
    "svm_clf = svm.fit(X_train, y_train)\n",
    "svm_predict = svm_clf.predict(X_test)\n",
    "\n",
    "\n",
    "svm_accuracy  = round((accuracy_score(y_test, svm_predict)), 2)*100\n",
    "svm_precision = round((precision_score(y_test, svm_predict, average='macro')), 2)*100\n",
    "svm_recall = round((recall_score(y_test, svm_predict, average='macro')), 2)*100\n",
    "svm_f1 = round((f1_score(y_test, svm_predict, average='macro')), 2)*100\n",
    "svm_kappa = round((cohen_kappa_score(y_test, svm_predict)), 2)*100\n",
    "\n",
    "design_data('Accuracy', svm_accuracy)\n",
    "design_data('Precision', svm_precision)\n",
    "design_data('Recall', svm_recall)\n",
    "design_data('F1_score', svm_f1)\n",
    "design_data('Cohen Kappa', svm_kappa)"
   ]
  },
  {
   "cell_type": "code",
   "execution_count": 38,
   "metadata": {
    "colab": {
     "base_uri": "https://localhost:8080/",
     "height": 334
    },
    "id": "ck4zzwcHXGIh",
    "outputId": "a03e23be-2695-49d1-ebee-fffea30061ef"
   },
   "outputs": [
    {
     "name": "stderr",
     "output_type": "stream",
     "text": [
      "C:\\ProgramData\\Anaconda3\\lib\\site-packages\\sklearn\\utils\\deprecation.py:87: FutureWarning: Function plot_confusion_matrix is deprecated; Function `plot_confusion_matrix` is deprecated in 1.0 and will be removed in 1.2. Use one of the class methods: ConfusionMatrixDisplay.from_predictions or ConfusionMatrixDisplay.from_estimator.\n",
      "  warnings.warn(msg, category=FutureWarning)\n"
     ]
    },
    {
     "data": {
      "image/png": "[encoded data removed]",
      "text/plain": [
       "<Figure size 432x288 with 2 Axes>"
      ]
     },
     "metadata": {
      "needs_background": "light"
     },
     "output_type": "display_data"
    }
   ],
   "source": [
    "plot_confusion_matrix(svm, X_test, y_test) \n",
    "plt.show()\n"
   ]
  },
  {
   "cell_type": "markdown",
   "metadata": {
    "id": "x4Y7WR9vXGIi"
   },
   "source": [
    "# 3):  Deep Learning"
   ]
  },
  {
   "cell_type": "code",
   "execution_count": 39,
   "metadata": {},
   "outputs": [
    {
     "name": "stderr",
     "output_type": "stream",
     "text": [
      "C:\\ProgramData\\Anaconda3\\lib\\site-packages\\keras\\optimizers\\optimizer_v2\\gradient_descent.py:108: UserWarning: The `lr` argument is deprecated, use `learning_rate` instead.\n",
      "  super(SGD, self).__init__(name, **kwargs)\n"
     ]
    }
   ],
   "source": [
    "# paramters\n",
    "from tensorflow.keras.optimizers import SGD\n",
    "\n",
    "EPOCHS = 10            # <============= [increase it while running on 'work-statsion']\n",
    "#BATCH_SIZE = 120      # <============= [decrease it while running on 'work-station']\n",
    "BATCH_SIZE = 30      # <============= [decrease it while running on 'work-station']\n",
    "opt = SGD(lr=0.01)   # <============= [the more you decrease the better deep-learning model will be]\n"
   ]
  },
  {
   "cell_type": "code",
   "execution_count": 40,
   "metadata": {
    "id": "EVYst5laXGIi"
   },
   "outputs": [],
   "source": [
    "from keras.preprocessing.text import Tokenizer\n",
    "from keras.layers import Embedding\n",
    "\n",
    "import time\n",
    "from keras import Sequential\n",
    "from keras.layers import Dense, Dropout"
   ]
  },
  {
   "cell_type": "code",
   "execution_count": 41,
   "metadata": {
    "colab": {
     "base_uri": "https://localhost:8080/"
    },
    "id": "8CYFZyrjXGIi",
    "outputId": "d537cfda-2e54-4098-ce6c-3dc5165faf97"
   },
   "outputs": [
    {
     "name": "stdout",
     "output_type": "stream",
     "text": [
      "Model: \"sequential\"\n",
      "_________________________________________________________________\n",
      " Layer (type)                Output Shape              Param #   \n",
      "=================================================================\n",
      " dense (Dense)               (None, 256)               16640     \n",
      "                                                                 \n",
      " dropout (Dropout)           (None, 256)               0         \n",
      "                                                                 \n",
      " dense_1 (Dense)             (None, 200)               51400     \n",
      "                                                                 \n",
      " dropout_1 (Dropout)         (None, 200)               0         \n",
      "                                                                 \n",
      " dense_2 (Dense)             (None, 160)               32160     \n",
      "                                                                 \n",
      " dropout_2 (Dropout)         (None, 160)               0         \n",
      "                                                                 \n",
      " dense_3 (Dense)             (None, 120)               19320     \n",
      "                                                                 \n",
      " dropout_3 (Dropout)         (None, 120)               0         \n",
      "                                                                 \n",
      " dense_4 (Dense)             (None, 80)                9680      \n",
      "                                                                 \n",
      " dropout_4 (Dropout)         (None, 80)                0         \n",
      "                                                                 \n",
      " dense_5 (Dense)             (None, 2)                 162       \n",
      "                                                                 \n",
      "=================================================================\n",
      "Total params: 129,362\n",
      "Trainable params: 129,362\n",
      "Non-trainable params: 0\n",
      "_________________________________________________________________\n",
      "Compile dnn model using no-stop-words ...\n",
      "Epoch 1/10\n",
      "24/24 [==============================] - 4s 31ms/step - loss: 0.7089 - accuracy: 0.4729 - val_loss: 0.6921 - val_accuracy: 0.5133\n",
      "Epoch 2/10\n",
      "24/24 [==============================] - 0s 14ms/step - loss: 0.6997 - accuracy: 0.5043 - val_loss: 0.6927 - val_accuracy: 0.4900\n",
      "Epoch 3/10\n",
      "24/24 [==============================] - 0s 16ms/step - loss: 0.6952 - accuracy: 0.5157 - val_loss: 0.6927 - val_accuracy: 0.4933\n",
      "Epoch 4/10\n",
      "24/24 [==============================] - 0s 17ms/step - loss: 0.7004 - accuracy: 0.5114 - val_loss: 0.6913 - val_accuracy: 0.5200\n",
      "Epoch 5/10\n",
      "24/24 [==============================] - 0s 17ms/step - loss: 0.6990 - accuracy: 0.5171 - val_loss: 0.6908 - val_accuracy: 0.5367\n",
      "Epoch 6/10\n",
      "24/24 [==============================] - 0s 16ms/step - loss: 0.6920 - accuracy: 0.5100 - val_loss: 0.6900 - val_accuracy: 0.5900\n",
      "Epoch 7/10\n",
      "24/24 [==============================] - 0s 17ms/step - loss: 0.6796 - accuracy: 0.5714 - val_loss: 0.6873 - val_accuracy: 0.6367\n",
      "Epoch 8/10\n",
      "24/24 [==============================] - 0s 18ms/step - loss: 0.7046 - accuracy: 0.4586 - val_loss: 0.6848 - val_accuracy: 0.6467\n",
      "Epoch 9/10\n",
      "24/24 [==============================] - 0s 17ms/step - loss: 0.6885 - accuracy: 0.5214 - val_loss: 0.6832 - val_accuracy: 0.6067\n",
      "Epoch 10/10\n",
      "24/24 [==============================] - 0s 18ms/step - loss: 0.6806 - accuracy: 0.5743 - val_loss: 0.6768 - val_accuracy: 0.6467\n",
      "22/22 [==============================] - 0s 8ms/step - loss: 0.6751 - accuracy: 0.6643\n",
      "10/10 [==============================] - 0s 8ms/step - loss: 0.6768 - accuracy: 0.6467\n",
      "All-good!\n"
     ]
    }
   ],
   "source": [
    "#: input_shape changed\n",
    "input_shape_ = X_train.shape[1]\n",
    "\n",
    "model = Sequential()\n",
    "model.add(Dense(256, input_shape=(input_shape_,), activation='relu'))\n",
    "model.add(Dropout(0.6))\n",
    "model.add(Dense(200, activation='relu'))  #1\n",
    "model.add(Dropout(0.5))\n",
    "model.add(Dense(160, activation='relu'))  #2\n",
    "model.add(Dropout(0.8))\n",
    "model.add(Dense(120, activation='relu'))  #3\n",
    "model.add(Dropout(0.7))\n",
    "model.add(Dense(80, activation='relu'))   #4\n",
    "model.add(Dropout(0.75))\n",
    "model.add(Dense(2, activation='softmax')) #: 2\n",
    "model.compile(loss='sparse_categorical_crossentropy', optimizer='adam', metrics=['accuracy']) \n",
    "model.summary()\n",
    "\n",
    "\n",
    "#: training-1 algo 1\n",
    "#:############ Using all-stopwords\n",
    "##############\n",
    "print(\"Compile dnn model using no-stop-words ...\")\n",
    "estimator_3 = model.fit(X_train, y_train, validation_data=(X_test, y_test), epochs=EPOCHS, batch_size=BATCH_SIZE)\n",
    "dnn_3_train = model.evaluate(X_train, y_train)\n",
    "dnn_3_test  = model.evaluate(X_test, y_test)\n",
    "print('All-good!')"
   ]
  },
  {
   "cell_type": "markdown",
   "metadata": {
    "id": "mEho8fvGXGIi"
   },
   "source": [
    "# DNN evaluation"
   ]
  },
  {
   "cell_type": "code",
   "execution_count": 42,
   "metadata": {
    "colab": {
     "base_uri": "https://localhost:8080/"
    },
    "id": "cBtvCY1tXGIj",
    "outputId": "5a97c427-c3ac-41d4-ce6c-95d78a2afcb9"
   },
   "outputs": [
    {
     "name": "stdout",
     "output_type": "stream",
     "text": [
      "10/10 [==============================] - 0s 4ms/step\n",
      "All-good!\n",
      "\n",
      "\u001b[1m|============================================================================|\u001b[0;m\n",
      "\u001b[1m|===========| (Accuracy)\u001b[0;m: ======>  (65.0)\n",
      "\u001b[1m|============================================================================|\u001b[0;m\n",
      "\n",
      "\u001b[1m|============================================================================|\u001b[0;m\n",
      "\u001b[1m|===========| (Precision)\u001b[0;m: ======>  (78.0)\n",
      "\u001b[1m|============================================================================|\u001b[0;m\n",
      "\n",
      "\u001b[1m|============================================================================|\u001b[0;m\n",
      "\u001b[1m|===========| (Recall)\u001b[0;m: ======>  (66.0)\n",
      "\u001b[1m|============================================================================|\u001b[0;m\n",
      "\n",
      "\u001b[1m|============================================================================|\u001b[0;m\n",
      "\u001b[1m|===========| (F1_score)\u001b[0;m: ======>  (61.0)\n",
      "\u001b[1m|============================================================================|\u001b[0;m\n",
      "\n",
      "\u001b[1m|============================================================================|\u001b[0;m\n",
      "\u001b[1m|===========| (Cohen Kappa)\u001b[0;m: ======>  (31.0)\n",
      "\u001b[1m|============================================================================|\u001b[0;m\n",
      "\n"
     ]
    }
   ],
   "source": [
    "#####################: evaluation measures\n",
    "#: making predictions\n",
    "yhat_probs = model.predict(X_test, verbose=0)   \n",
    "\n",
    "# predict crisp classes for test set\n",
    "yhat_classes = np.argmax(model.predict(X_test), axis=-1)\n",
    "\n",
    "# reduce to 1d array\n",
    "yhat_probs = yhat_probs\n",
    "yhat_classes = yhat_classes\n",
    " \n",
    "# accuracy: \n",
    "dnn_1_accuracy = round(accuracy_score(y_test, yhat_classes), 2)*100\n",
    "\n",
    "# precision\n",
    "dnn_1_precision = round(precision_score(y_test, yhat_classes, average='macro'), 2)*100\n",
    "\n",
    "# recall: \n",
    "dnn_1_recall = round(recall_score(y_test, yhat_classes, average='macro'), 2)*100\n",
    "# f1:\n",
    "dnn_1_f1 = round(f1_score(y_test, yhat_classes, average='macro'),2)*100\n",
    " \n",
    "# kappa\n",
    "dnn_1_kappa = round(cohen_kappa_score(y_test, yhat_classes), 2)*100\n",
    "\n",
    "print('All-good!')\n",
    "print()\n",
    "design_data('Accuracy', dnn_1_accuracy)\n",
    "design_data('Precision', dnn_1_precision)\n",
    "design_data('Recall', dnn_1_recall)\n",
    "design_data('F1_score', dnn_1_f1)\n",
    "design_data('Cohen Kappa', dnn_1_kappa)"
   ]
  },
  {
   "cell_type": "markdown",
   "metadata": {
    "id": "FnsTUG_KXGIj"
   },
   "source": [
    "# 4): CNN\n",
    "\n",
    "\n",
    "\n",
    "Important Note:\n",
    "\n",
    "while running on work-station if the CNN's loss is nan then replace the optimizer=opt with optimizer='adam'\n",
    "\n",
    "\n"
   ]
  },
  {
   "cell_type": "code",
   "execution_count": 43,
   "metadata": {
    "id": "wgHyfLtLXGIj"
   },
   "outputs": [],
   "source": [
    "\n",
    "from keras.preprocessing.text import Tokenizer\n",
    "from keras_preprocessing.sequence import  pad_sequences\n",
    "\n",
    "\n",
    "tokenizer = Tokenizer()\n",
    "tokenizer.fit_on_texts(X_train_dnn) \n",
    "\n",
    "X_train_seq = tokenizer.texts_to_sequences(X_train_dnn)\n",
    "X_test_seq = tokenizer.texts_to_sequences(X_test_dnn)\n",
    "\n",
    "vocab_size = len(tokenizer.word_index)+1  \n",
    "\n",
    "maxlen = 100\n",
    "\n",
    "X_train = pad_sequences(X_train_seq, padding='post', maxlen=maxlen)\n",
    "X_test = pad_sequences(X_test_seq, padding='post', maxlen=maxlen)\n",
    "\n",
    "\n"
   ]
  },
  {
   "cell_type": "code",
   "execution_count": 44,
   "metadata": {
    "colab": {
     "base_uri": "https://localhost:8080/"
    },
    "id": "7r6UH1fWbG2A",
    "outputId": "eae253f6-2017-4bf1-ca0c-8bd89fc08fc8"
   },
   "outputs": [],
   "source": [
    "import time\n",
    "#import tensorflow as tf"
   ]
  },
  {
   "cell_type": "code",
   "execution_count": 45,
   "metadata": {
    "colab": {
     "base_uri": "https://localhost:8080/"
    },
    "id": "e87Fay7oXGIk",
    "outputId": "1858ea91-5f17-45e2-82e5-74ae7486c5f3"
   },
   "outputs": [
    {
     "name": "stdout",
     "output_type": "stream",
     "text": [
      "Model: \"sequential_1\"\n",
      "_________________________________________________________________\n",
      " Layer (type)                Output Shape              Param #   \n",
      "=================================================================\n",
      " embedding (Embedding)       (None, 100, 300)          893100    \n",
      "                                                                 \n",
      " conv1d (Conv1D)             (None, 95, 528)           950928    \n",
      "                                                                 \n",
      " batch_normalization (BatchN  (None, 95, 528)          2112      \n",
      " ormalization)                                                   \n",
      "                                                                 \n",
      " leaky_re_lu (LeakyReLU)     (None, 95, 528)           0         \n",
      "                                                                 \n",
      " global_max_pooling1d (Globa  (None, 528)              0         \n",
      " lMaxPooling1D)                                                  \n",
      "                                                                 \n",
      " dropout_5 (Dropout)         (None, 528)               0         \n",
      "                                                                 \n",
      " dense_6 (Dense)             (None, 100)               52900     \n",
      "                                                                 \n",
      " leaky_re_lu_1 (LeakyReLU)   (None, 100)               0         \n",
      "                                                                 \n",
      " dropout_6 (Dropout)         (None, 100)               0         \n",
      "                                                                 \n",
      " dense_7 (Dense)             (None, 200)               20200     \n",
      "                                                                 \n",
      " leaky_re_lu_2 (LeakyReLU)   (None, 200)               0         \n",
      "                                                                 \n",
      " dropout_7 (Dropout)         (None, 200)               0         \n",
      "                                                                 \n",
      " dense_8 (Dense)             (None, 420)               84420     \n",
      "                                                                 \n",
      " leaky_re_lu_3 (LeakyReLU)   (None, 420)               0         \n",
      "                                                                 \n",
      " dropout_8 (Dropout)         (None, 420)               0         \n",
      "                                                                 \n",
      " dense_9 (Dense)             (None, 1)                 421       \n",
      "                                                                 \n",
      "=================================================================\n",
      "Total params: 2,004,081\n",
      "Trainable params: 2,003,025\n",
      "Non-trainable params: 1,056\n",
      "_________________________________________________________________\n"
     ]
    }
   ],
   "source": [
    "\n",
    "embedding_dim = 300\n",
    "\n",
    "#####\n",
    "\n",
    "model = Sequential()\n",
    "model.add(Embedding(input_dim = vocab_size, output_dim=embedding_dim, input_length=maxlen))\n",
    "#: 1 con+poolin\n",
    "model.add(Conv1D(528, 6))\n",
    "model.add(BatchNormalization())\n",
    "model.add(LeakyReLU(alpha=0.05))\n",
    "model.add(GlobalMaxPool1D())\n",
    "model.add(Dropout(0.3))\n",
    "model.add(Dense(100))\n",
    "model.add(LeakyReLU(alpha=0.05))\n",
    "model.add(Dropout(0.3))\n",
    "model.add(Dense(200)) #: 3\n",
    "model.add(LeakyReLU(alpha=0.05))\n",
    "model.add(Dropout(0.8))\n",
    "model.add(Dense(420, activation='relu')) #: 4\n",
    "model.add(LeakyReLU(alpha=0.05))\n",
    "model.add(Dropout(0.5))\n",
    "model.add(Dense(1, activation=\"softmax\"))\n",
    "model.compile(loss='categorical_crossentropy', optimizer=opt, metrics=['accuracy'])\n",
    "model.summary()"
   ]
  },
  {
   "cell_type": "code",
   "execution_count": null,
   "metadata": {
    "colab": {
     "base_uri": "https://localhost:8080/"
    },
    "id": "pWlnIvRpXGIk",
    "outputId": "abfe6d76-edbf-4bb3-fee7-080e65bac97a"
   },
   "outputs": [
    {
     "name": "stdout",
     "output_type": "stream",
     "text": [
      "Epoch 1/10\n"
     ]
    }
   ],
   "source": [
    "cnn_start = time.time()\n",
    "model.fit(X_train, y_train, epochs=EPOCHS, validation_data=(X_test, y_test), batch_size=BATCH_SIZE)\n",
    "cnn_stop = time.time()\n",
    "\n",
    "\n",
    "cnn_loss_train, cnn_accuracy_train = model.evaluate(X_train, y_train, verbose=False)\n",
    "cnn_loss_test, cnn_accuracy_test = model.evaluate(X_test, y_test, verbose=False)\n"
   ]
  },
  {
   "cell_type": "code",
   "execution_count": null,
   "metadata": {},
   "outputs": [],
   "source": []
  },
  {
   "cell_type": "markdown",
   "metadata": {
    "id": "epDpn05jXGIk"
   },
   "source": [
    "# CNN Evaluation"
   ]
  },
  {
   "cell_type": "code",
   "execution_count": null,
   "metadata": {
    "colab": {
     "base_uri": "https://localhost:8080/"
    },
    "id": "UTp1kAkYXGIl",
    "outputId": "5bfcb810-0a60-4048-e121-c7d0230e87f6"
   },
   "outputs": [],
   "source": [
    "#####################: evaluation measures\n",
    "#: making predictions\n",
    "yhat_probs = model.predict(X_test, verbose=0) \n",
    "\n",
    "# predict crisp classes for test set\n",
    "yhat_classes = np.argmax(model.predict(X_test), axis=-1)\n",
    "\n",
    "# reduce to 1d array\n",
    "yhat_probs = yhat_probs\n",
    "yhat_classes = yhat_classes\n",
    " \n",
    "# accuracy: \n",
    "cnn_accuracy = round(accuracy_score(y_test, yhat_classes), 2)*100\n",
    "\n",
    "# precision\n",
    "cnn_precision = round(precision_score(y_test, yhat_classes, average='macro'), 2)*100\n",
    "\n",
    "# recall: \n",
    "cnn_recall = round(recall_score(y_test, yhat_classes, average='macro'), 2)*100\n",
    "# f1:\n",
    "cnn_f1 = round(f1_score(y_test, yhat_classes, average='macro'),2)*100\n",
    " \n",
    "# kappa\n",
    "cnn_kappa = round(cohen_kappa_score(y_test, yhat_classes), 2)*100\n",
    "\n",
    "print('All-good!')\n",
    "print()\n",
    "design_data('Accuracy', cnn_accuracy)\n",
    "design_data('Precision', cnn_precision)\n",
    "design_data('Recall', cnn_recall)\n",
    "design_data('F1_score', cnn_f1)\n",
    "design_data('Cohen Kappa', cnn_kappa)\n",
    "print('All-good')"
   ]
  },
  {
   "cell_type": "markdown",
   "metadata": {},
   "source": [
    "# 4): LSTM"
   ]
  },
  {
   "cell_type": "code",
   "execution_count": null,
   "metadata": {},
   "outputs": [],
   "source": [
    "X = dataset['comment']\n",
    "Y = dataset['label']"
   ]
  },
  {
   "cell_type": "code",
   "execution_count": null,
   "metadata": {},
   "outputs": [],
   "source": [
    "vectorizer = TfidfVectorizer(analyzer='word', max_df=0.8, min_df=4, ngram_range=(1,1), stop_words=freezing_words, sublinear_tf=True, tokenizer=wordpunct_tokenize).fit(X)\n",
    "\n",
    "\n",
    "tfidf_vector_X = vectorizer.transform(X).toarray()  #//shape - (3,6)\n",
    "tfidf_vector_Y = vectorizer.transform(Y).toarray() #//shape - (3,6)\n",
    "tfidf_vector_X = tfidf_vector_X[:, :, None] #//shape - (3,6,1) \n",
    "tfidf_vector_Y = tfidf_vector_Y[:, :, None] #//shape - (3,6,1)\n"
   ]
  },
  {
   "cell_type": "code",
   "execution_count": null,
   "metadata": {},
   "outputs": [],
   "source": [
    "X_train, X_test, y_train, y_test = train_test_split(tfidf_vector_X, tfidf_vector_Y, test_size = 0.3, random_state = 1500)"
   ]
  },
  {
   "cell_type": "code",
   "execution_count": null,
   "metadata": {},
   "outputs": [],
   "source": [
    "from keras import Sequential\n",
    "from keras.layers import LSTM\n",
    "\n",
    "model = Sequential()\n",
    "model.add(LSTM(units=512, input_shape = X_train.shape[1:], return_sequences = True))\n",
    "model.add(LSTM(units=128, return_sequences=True))\n",
    "model.add(Dropout(0.2))\n",
    "model.add(LSTM(units=64, return_sequences=True))\n",
    "model.add(Dropout(0.2))\n",
    "model.add(LSTM(units=32, return_sequences=True))\n",
    "model.add(Dropout(0.3))\n",
    "model.add(LSTM(units=16, return_sequences=True))\n",
    "model.add(Dropout(0.2))\n",
    "model.add(LSTM(units=8, return_sequences=True, name='output'))\n",
    "model.add(Dense(1,activation='sigmoid'))\n",
    "\n",
    "#Compiling the model\n",
    "#model.compile(loss='categorical_crossentropy',optimizer='adam',metrics=['accuracy'])\n",
    "model.compile(loss='categorical_crossentropy',optimizer=opt,metrics=['accuracy'])\n",
    "\n",
    "print(model.summary())"
   ]
  },
  {
   "cell_type": "code",
   "execution_count": null,
   "metadata": {},
   "outputs": [],
   "source": [
    "# fitting the model\n",
    "lstm_start = time.time()\n",
    "model.fit(X_train, y_train, epochs=EPOCHS, validation_data=(X_test, y_test), batch_size=BATCH_SIZE)\n",
    "lstm_stop = time.time()\n"
   ]
  },
  {
   "cell_type": "markdown",
   "metadata": {},
   "source": [
    "# LSTM-Evaluation"
   ]
  },
  {
   "cell_type": "code",
   "execution_count": null,
   "metadata": {},
   "outputs": [],
   "source": [
    "y_test = y_test.reshape(-1, 1)\n",
    "y_train = y_train.reshape(-1, 1)"
   ]
  },
  {
   "cell_type": "code",
   "execution_count": null,
   "metadata": {},
   "outputs": [],
   "source": [
    "#####################: evaluation measures\n",
    "#: making predictions\n",
    "yhat_probs = model.predict(X_test, verbose=0) \n",
    "\n",
    "# predict crisp classes for test set\n",
    "yhat_classes = np.argmax(model.predict(X_test), axis=-1)\n",
    "\n",
    "yhat_probs = yhat_probs.reshape(-1, 1)\n",
    "yhat_classes = yhat_classes.reshape(-1, 1)\n",
    " \n",
    "# accuracy: \n",
    "lstm_accuracy = round(accuracy_score(y_test, yhat_classes), 2)*100\n",
    "\n",
    "# precision\n",
    "lstm_precision = round(precision_score(y_test, yhat_classes, average='macro'), 2)*100\n",
    "\n",
    "# recall: \n",
    "lstm_recall = round(recall_score(y_test, yhat_classes, average='macro'), 2)*100\n",
    "# f1:\n",
    "lstm_f1 = round(f1_score(y_test, yhat_classes, average='macro'),2)*100\n",
    " \n",
    "# kappa\n",
    "lstm_kappa = round(cohen_kappa_score(y_test, yhat_classes), 2)*100\n",
    "\n",
    "print('All-good!')\n",
    "print()\n",
    "design_data('Accuracy', lstm_accuracy)\n",
    "design_data('Precision', lstm_precision)\n",
    "design_data('Recall', lstm_recall)\n",
    "design_data('F1_score', lstm_f1)\n",
    "design_data('Cohen Kappa', lstm_kappa)\n",
    "print('All-good')"
   ]
  },
  {
   "cell_type": "markdown",
   "metadata": {},
   "source": [
    "# 5): Bi-LSTM"
   ]
  },
  {
   "cell_type": "code",
   "execution_count": null,
   "metadata": {},
   "outputs": [],
   "source": [
    "vectorizer = TfidfVectorizer(analyzer='word', max_df=0.8, min_df=4, ngram_range=(1,1), stop_words=freezing_words, sublinear_tf=True, tokenizer=wordpunct_tokenize).fit(X)\n",
    "\n",
    "\n",
    "tfidf_vector_X = vectorizer.transform(X).toarray()  #//shape - (3,6)\n",
    "tfidf_vector_Y = vectorizer.transform(Y).toarray() #//shape - (3,6)\n",
    "tfidf_vector_X = tfidf_vector_X[:, :, None] #//shape - (3,6,1) \n",
    "tfidf_vector_Y = tfidf_vector_Y[:, :, None] #//shape - (3,6,1)\n",
    "\n",
    "\n",
    "X_train, X_test, y_train, y_test = train_test_split(tfidf_vector_X, tfidf_vector_Y, test_size = 0.3, random_state = 1500)"
   ]
  },
  {
   "cell_type": "code",
   "execution_count": null,
   "metadata": {},
   "outputs": [],
   "source": [
    "from keras import Sequential\n",
    "from keras.layers import LSTM\n",
    "\n",
    "model = Sequential()\n",
    "model.add(Bidirectional(LSTM(units=512, input_shape = X_train.shape[1:], return_sequences = True)))\n",
    "model.add(LSTM(units=128, return_sequences=True))\n",
    "model.add(Dropout(0.2))\n",
    "model.add(LSTM(units=64, return_sequences=True))\n",
    "model.add(Dropout(0.2))\n",
    "model.add(LSTM(units=32, return_sequences=True))\n",
    "model.add(Dropout(0.3))\n",
    "model.add(LSTM(units=16, return_sequences=True))\n",
    "model.add(Dropout(0.2))\n",
    "model.add(LSTM(units=8, return_sequences=True, name='output'))\n",
    "model.add(Dense(1,activation='sigmoid'))\n",
    "\n",
    "#Compiling the model\n",
    "#sgdba\n",
    "model.compile(loss='categorical_crossentropy',optimizer='adam',metrics=['accuracy'])\n",
    "\n",
    "model.build(X_train.shape)\n",
    "print(model.summary())"
   ]
  },
  {
   "cell_type": "code",
   "execution_count": null,
   "metadata": {},
   "outputs": [],
   "source": [
    "# fitting the model\n",
    "bi_lstm_start = time.time()\n",
    "model.fit(X_train, y_train, epochs=EPOCHS, validation_data=(X_test, y_test), batch_size=BATCH_SIZE)\n",
    "bi_lstm_stop = time.time()\n"
   ]
  },
  {
   "cell_type": "markdown",
   "metadata": {},
   "source": [
    "# Evalutating Bi-LSTM"
   ]
  },
  {
   "cell_type": "code",
   "execution_count": null,
   "metadata": {},
   "outputs": [],
   "source": [
    "y_test = y_test.reshape(-1, 1)\n",
    "y_train = y_train.reshape(-1, 1)"
   ]
  },
  {
   "cell_type": "code",
   "execution_count": null,
   "metadata": {},
   "outputs": [],
   "source": [
    "#####################: evaluation measures\n",
    "#: making predictions\n",
    "yhat_probs = model.predict(X_test, verbose=0) \n",
    "\n",
    "# predict crisp classes for test set\n",
    "yhat_classes = np.argmax(model.predict(X_test), axis=-1)\n",
    "yhat_classes = np.reshape(yhat_classes, (yhat_classes.shape[0], 1, yhat_classes.shape[1]))\n",
    "\n",
    "yhat_probs = yhat_probs.reshape(-1, 1)\n",
    "yhat_classes = yhat_classes.reshape(-1, 1)\n",
    " \n",
    "# accuracy: \n",
    "bi_lstm_accuracy = round(accuracy_score(y_test, yhat_classes), 2)*100\n",
    "\n",
    "# precision\n",
    "bi_lstm_precision = round(precision_score(y_test, yhat_classes, average='macro'), 2)*100\n",
    "\n",
    "# recall: \n",
    "bi_lstm_recall = round(recall_score(y_test, yhat_classes, average='macro'), 2)*100\n",
    "# f1:\n",
    "bi_lstm_f1 = round(f1_score(y_test, yhat_classes, average='macro'),2)*100\n",
    " \n",
    "# kappa\n",
    "bi_lstm_kappa = round(cohen_kappa_score(y_test, yhat_classes), 2)*100\n",
    "\n",
    "print('All-good!')\n",
    "print()\n",
    "design_data('Accuracy', bi_lstm_accuracy)\n",
    "design_data('Precision', bi_lstm_precision)\n",
    "design_data('Recall', bi_lstm_recall)\n",
    "design_data('F1_score', bi_lstm_f1)\n",
    "design_data('Cohen Kappa', bi_lstm_kappa)\n",
    "print('All-good')"
   ]
  },
  {
   "cell_type": "markdown",
   "metadata": {
    "id": "aLH8TMBsXGIl"
   },
   "source": [
    "# Comparision of all models"
   ]
  },
  {
   "cell_type": "code",
   "execution_count": null,
   "metadata": {},
   "outputs": [],
   "source": [
    "models = pd.DataFrame({\n",
    "    'NB':  [mnb_precision, mnb_recall, mnb_f1, mnb_kappa],\n",
    "    'SVM': [svm_precision, svm_recall, svm_f1, svm_kappa ],\n",
    "    'DNN': [dnn_1_precision, dnn_1_recall, dnn_1_f1, dnn_1_kappa],\n",
    "    'CNN':  [cnn_precision, cnn_recall, cnn_f1, cnn_kappa],\n",
    "    'LSTM':  [lstm_precision, lstm_recall, lstm_f1, lstm_kappa],\n",
    "    'Bi-LSTM':  [bi_lstm_precision, bi_lstm_recall, bi_lstm_f1, bi_lstm_kappa]\n",
    "    \n",
    "}, index=['Precision', 'Recall', 'F1', 'Cohen Kappa'] )"
   ]
  },
  {
   "cell_type": "markdown",
   "metadata": {},
   "source": [
    "# Comparision in Tabular format"
   ]
  },
  {
   "cell_type": "code",
   "execution_count": null,
   "metadata": {},
   "outputs": [],
   "source": [
    "# tabular comparision\n",
    "models"
   ]
  },
  {
   "cell_type": "code",
   "execution_count": null,
   "metadata": {
    "colab": {
     "base_uri": "https://localhost:8080/",
     "height": 514
    },
    "id": "oG1jKeoFXGIl",
    "outputId": "b2a8f195-14fb-43ed-ada7-530bee9de1fe"
   },
   "outputs": [],
   "source": [
    "# Visualizing all results\n",
    "\n",
    "models.plot(kind='bar', figsize=(15, 10))\n",
    "plt.title('Results')\n",
    "plt.xlabel('Evaluation-Measures')\n",
    "plt.ylabel('Measurements')\n",
    "\n",
    "# saving the Comparision graph\n",
    "plt.savefig(\"model_comparisions_bar.pdf\", format=\"pdf\", bbox_inches=\"tight\")\n",
    "\n",
    "plt.show()"
   ]
  },
  {
   "cell_type": "markdown",
   "metadata": {},
   "source": [
    "# Line-Graph"
   ]
  },
  {
   "cell_type": "code",
   "execution_count": null,
   "metadata": {},
   "outputs": [],
   "source": [
    "import seaborn as sns\n",
    "\n",
    "plt.figure(figsize=(15, 10))\n",
    "sns.lineplot(data=models)\n",
    "\n",
    "# saving the Comparision graph\n",
    "plt.savefig(\"model_comparisions_line.pdf\", format=\"pdf\", bbox_inches=\"tight\")\n",
    "\n",
    "plt.show()"
   ]
  },
  {
   "cell_type": "code",
   "execution_count": null,
   "metadata": {},
   "outputs": [],
   "source": [
    "plt.figure(figsize=(10, 10))\n",
    "\n",
    "models.plot.line(subplots=True, figsize=(10, 10))\n",
    "\n",
    "plt.show()"
   ]
  },
  {
   "cell_type": "code",
   "execution_count": null,
   "metadata": {},
   "outputs": [],
   "source": [
    "# saving the model results\n",
    "models.to_csv(\"model_results.csv\")\n",
    "\n",
    "print(\"Model-Results saved!\")"
   ]
  },
  {
   "cell_type": "markdown",
   "metadata": {},
   "source": [
    "# ==================== [ Work-Done Here ] ======================\n",
    "\n",
    "\n"
   ]
  }
 ],
 "metadata": {
  "colab": {
   "collapsed_sections": [
    "dj04UN0UXGIg",
    "aLH8TMBsXGIl",
    "dDxvi_JXXGIn"
   ],
   "name": "toxic_22.ipynb",
   "provenance": []
  },
  "kernelspec": {
   "display_name": "Python 3 (ipykernel)",
   "language": "python",
   "name": "python3"
  },
  "language_info": {
   "codemirror_mode": {
    "name": "ipython",
    "version": 3
   },
   "file_extension": ".py",
   "mimetype": "text/x-python",
   "name": "python",
   "nbconvert_exporter": "python",
   "pygments_lexer": "ipython3",
   "version": "3.9.12"
  }
 },
 "nbformat": 4,
 "nbformat_minor": 1
}
